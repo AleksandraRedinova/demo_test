{
 "cells": [
  {
   "cell_type": "markdown",
   "id": "04858a23-8948-4695-856e-39287a9b209c",
   "metadata": {},
   "source": [
    "<H1>My Jupyter Notebook on Skills Network Labs</H1>"
   ]
  },
  {
   "cell_type": "markdown",
   "id": "4de40f59-42a8-44fd-a441-372d1d4fb3dd",
   "metadata": {},
   "source": [
    "<strong>Redinova\n",
    "<br>Aleksandra\n",
    "<br>IT teacher</strong>"
   ]
  },
  {
   "cell_type": "markdown",
   "id": "3f700737-2c74-48ef-9634-a48c37060ddd",
   "metadata": {},
   "source": [
    "*I am interested in data science because in my opinion it is one of the most demanded and modern professions nowadays.*\n",
    "\n"
   ]
  },
  {
   "cell_type": "markdown",
   "id": "9c2aa5ba-d045-41ad-bd4a-cafb02371941",
   "metadata": {},
   "source": [
    "<h3> In Cell 5 my code outputs the phrase 'Hello,world'</h3>"
   ]
  },
  {
   "cell_type": "code",
   "execution_count": 2,
   "id": "162add1b-898e-4810-867d-86d30f00cc26",
   "metadata": {},
   "outputs": [
    {
     "name": "stdout",
     "output_type": "stream",
     "text": [
      "Hello,world\n"
     ]
    }
   ],
   "source": [
    "print('Hello,world')"
   ]
  },
  {
   "cell_type": "markdown",
   "id": "da1d73cf-82b0-411f-8cc6-c1b65f3a9889",
   "metadata": {},
   "source": [
    "<hr>\n",
    " I've learnt...\n",
    "<ul>\n",
    "    <li>Jupyter Notebook\n",
    "    <li>RStudio\n",
    "    <li>IBM Watson Studio\n",
    "</ul>\n",
    "I've learnt Python's libraries:\n",
    "<ol>\n",
    "    <li>pandas\n",
    "    <li>matplotlib\n",
    "    <li>seaborn\n",
    "</ol>\n",
    "<table border = 10px>\n",
    "    <center>Languages I need</center>\n",
    "    <tr>\n",
    "        <td>Python\n",
    "        <td>Markdown\n",
    "        <td>SQL\n",
    "    </tr>\n",
    "    <tr>\n",
    "        <td>R\n",
    "        <td>Scala\n",
    "        <td>Go??\n",
    "    </tr>\n",
    "</table>\n",
    "<p>This is <a href=https://nbviewer.org/github/Tanu-N-Prabhu/Python/blob/master/Exploratory_data_Analysis.ipynb>a link</a> on the document which helped me a lot</p>\n",
    "<p>I like Python</p>\n",
    "<img src=https://avatars.mds.yandex.net/i?id=ce0fd50c47dc15775513f3d3f563037e9b17d2b0-7979832-images-thumbs&n=13&exp=1>"
   ]
  },
  {
   "cell_type": "code",
   "execution_count": null,
   "id": "a9a036da-09ef-4578-8423-838e752d4d80",
   "metadata": {},
   "outputs": [],
   "source": []
  }
 ],
 "metadata": {
  "kernelspec": {
   "display_name": "Python",
   "language": "python",
   "name": "conda-env-python-py"
  },
  "language_info": {
   "codemirror_mode": {
    "name": "ipython",
    "version": 3
   },
   "file_extension": ".py",
   "mimetype": "text/x-python",
   "name": "python",
   "nbconvert_exporter": "python",
   "pygments_lexer": "ipython3",
   "version": "3.7.12"
  }
 },
 "nbformat": 4,
 "nbformat_minor": 5
}
